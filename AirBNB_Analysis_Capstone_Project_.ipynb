{
  "nbformat": 4,
  "nbformat_minor": 0,
  "metadata": {
    "colab": {
      "private_outputs": true,
      "provenance": [],
      "collapsed_sections": [
        "mDgbUHAGgjLW",
        "7hBIi_osiCS2",
        "MSa1f5Uengrz",
        "EM7whBJCYoAo",
        "4Of9eVA-YrdM",
        "bamQiAODYuh1",
        "OH-pJp9IphqM",
        "PIIx-8_IphqN",
        "BZR9WyysphqO",
        "YJ55k-q6phqO",
        "U2RJ9gkRphqQ",
        "x-EpHcCOp1ci",
        "n3dbpmDWp1ck",
        "Ag9LCva-p1cl",
        "NTo1nsoJ2Sa6",
        "tby-kTvrHqNS",
        "NC_X3p0fY2L0",
        "JcMwzZxoAimU",
        "gIfDvo9L0UH2"
      ],
      "cell_execution_strategy": "setup",
      "include_colab_link": true
    },
    "kernelspec": {
      "name": "python3",
      "display_name": "Python 3"
    },
    "language_info": {
      "name": "python"
    }
  },
  "cells": [
    {
      "cell_type": "markdown",
      "metadata": {
        "id": "view-in-github",
        "colab_type": "text"
      },
      "source": [
        "<a href=\"https://colab.research.google.com/github/jatintilwani/AirBNB_data_analysis/blob/main/AirBNB_Analysis_Capstone_Project_.ipynb\" target=\"_parent\"><img src=\"https://colab.research.google.com/assets/colab-badge.svg\" alt=\"Open In Colab\"/></a>"
      ]
    },
    {
      "cell_type": "markdown",
      "source": [
        "# **Project Name**    - Capstone Project: Exploratory Data Analysis on Air BNB Booking\n",
        "\n"
      ],
      "metadata": {
        "id": "vncDsAP0Gaoa"
      }
    },
    {
      "cell_type": "markdown",
      "source": [
        "##### **Project Type**    - EDA\n",
        "##### **Contribution**    - Individual\n",
        "##### **Author**          - Jatin Tilwani\n"
      ],
      "metadata": {
        "id": "beRrZCGUAJYm"
      }
    },
    {
      "cell_type": "markdown",
      "source": [
        "# **Project Summary -**"
      ],
      "metadata": {
        "id": "FJNUwmbgGyua"
      }
    },
    {
      "cell_type": "markdown",
      "source": [
        "**Objective**:\n",
        "\n",
        "This project aims to explore and analyze an extensive Airbnb dataset comprising approximately 49,000 observations across 16 columns. The dataset features both categorical and numeric values, offering a comprehensive view of Airbnb listings. The goal is to extract valuable insights to inform business strategies, enhance customer experiences, and optimize marketing efforts.\n",
        "\n",
        "\\\n",
        "\n",
        "\n",
        "**Data Description**:\n",
        "\n",
        "The dataset includes a variety of attributes:\n",
        "\n",
        "**Numeric Columns**: These encompass price, number of reviews, and availability nights, providing quantitative measures of listing performance and engagement.\n",
        "\n",
        "**Categorical Columns**: Features include property type, room type, and neighborhood group, offering categorical insights into listing characteristics and distribution.\n",
        "\n",
        "\\\n",
        "\n",
        "\n",
        "\n",
        "**Methodology**:\n",
        "\n",
        "\n",
        "\n",
        "1.) **Data Cleaning and Preparation**:\n",
        "\n",
        "  a.) **Handling Missing Values**: Addressed missing data through imputation or removal based on the impact on subsequent analyses. This step ensures the reliability and accuracy of the findings.\n",
        "\n",
        "  b.) **Data Type Verification**: Checked and corrected data types to ensure proper formatting for analysis, which is crucial for accurate results.\n",
        "  \n",
        "\n",
        "\n",
        "2.) **Descriptive Statistics**:\n",
        "\n",
        "Calculated basic statistics such as mean, median, mode, and standard deviation for numeric variables. These statistics provide an overview of central tendencies, variability, and the distribution of key metrics like price and number of reviews.\n",
        "\n",
        "3.) **Categorical Analysis**:\n",
        "\n",
        "Analyzed frequency distributions to understand the prevalence and distribution of categorical variables such as property type and room type. This helps identify popular categories and trends within the dataset.\n",
        "\n",
        "4.) **Visualizations**:\n",
        "\n",
        "**Histograms**: Utilized to explore the distribution of numeric variables like price and number of reviews, highlighting the frequency of different value ranges.\n",
        "\n",
        "**Box Plots**: Employed to identify outliers and assess the spread of prices across various property and room types, providing insights into price variability.\n",
        "\n",
        "**Bar Charts**: Used to compare the number of listings across different categorical variables, such as property type and neighborhood group, revealing distribution patterns.\n",
        "\n",
        "**Scatter Plots**: Analyzed relationships between numeric variables, such as price and number of reviews, to uncover potential correlations and trends.\n",
        "\n",
        "**Heatmaps**: Created to visualize correlations between numeric features, offering a color-coded view of interactions and dependencies within the data.\n",
        "\n",
        "\\\n",
        "\n",
        "**Key Insights**:\n",
        "\n",
        "**Pricing Trends**: Significant variations in prices were observed based on location, property type, and room type. Listings in central neighborhoods generally had higher prices compared to those in suburban or less central areas.\n",
        "\n",
        "**Review Patterns**: A correlation was found between the number of reviews and listing prices, indicating that listings with more reviews often have higher prices, possibly due to perceived quality or popularity.\n",
        "\n",
        "**Property and Room Types**: The distribution analysis highlighted trends in customer preferences, with some property and room types being more prevalent in specific neighborhoods. For instance, entire home listings were more common in certain areas compared to shared rooms.\n",
        "\n",
        "**Availability Trends**: Seasonal variations in listing availability were identified, revealing peak times and trends that can inform pricing strategies and marketing efforts.\n",
        "\n",
        "\\\n",
        "\n",
        "**Tools and Libraries Used**:\n",
        "\n",
        "**Pandas**: For data manipulation, cleaning, and aggregation, facilitating efficient handling of the dataset.\n",
        "\n",
        "**Matplotlib and Seaborn**: For visualizing data to understand patterns and behavior with respect to various target variables.\n",
        "\n",
        "**NumPy**: For performing computational operations efficiently, ensuring quick and accurate analysis.\n",
        "\n",
        "\\\n",
        "\n",
        "**Conclusion**:\n",
        "\n",
        "This project delivers valuable insights into the dynamics of Airbnb listings through a detailed analysis of the dataset. By employing descriptive statistics, categorical analysis, and diverse visualizations, the project uncovers significant trends and patterns. These insights can guide strategic decisions related to pricing, marketing, and operational improvements, ultimately enhancing the Airbnb user experience. The use of Pandas, Matplotlib, Seaborn, and NumPy ensures a thorough and effective analysis, providing actionable recommendations for the platform.\n",
        "\n",
        "\n"
      ],
      "metadata": {
        "id": "F6v_1wHtG2nS"
      }
    },
    {
      "cell_type": "markdown",
      "source": [
        "# **GitHub Link -**"
      ],
      "metadata": {
        "id": "w6K7xa23Elo4"
      }
    },
    {
      "cell_type": "markdown",
      "source": [
        "https://github.com/jatintilwani/AirBNB_data_analysis/blob/main/AirBNB_Analysis_Capstone_Project_.ipynb"
      ],
      "metadata": {
        "id": "h1o69JH3Eqqn"
      }
    },
    {
      "cell_type": "markdown",
      "source": [
        "# **Problem Statement**\n"
      ],
      "metadata": {
        "id": "yQaldy8SH6Dl"
      }
    },
    {
      "cell_type": "markdown",
      "source": [
        "Airbnb, a leading platform for booking unique accommodations worldwide, relies heavily on data generated from its millions of listings to drive business decisions, improve customer experiences, and refine marketing strategies. The dataset in question consists of approximately 49,000 observations and 16 columns, encompassing both categorical and numeric values.\n",
        "\n",
        "\\\n",
        "The core problem is to explore and analyze this extensive dataset to uncover actionable insights. Specifically, the objectives are to:\n",
        "\n",
        "\n",
        "\n",
        "1.   **Identify Key Pricing Trends**: Determine how factors such as location, property type, and room type influence listing prices. This includes analyzing how prices vary across different neighborhoods and understanding the relationship between prices and other variables.\n",
        "\n",
        "1.   **Analyze Review Patterns**: Explore the correlation between the number of reviews and listing prices. Investigate whether higher-reviewed listings tend to have higher prices and what this implies about customer perceptions and listing popularity.\n",
        "\n",
        "2.   **Understand Property and Room Type Distributions**: Examine the distribution of various property and room types across different neighborhoods. Identify trends in customer preferences and the prevalence of specific types of listings.\n",
        "\n",
        "\n",
        "4.   **Detect Availability Trends**: Analyze seasonal trends and variations in listing availability. Determine peak times and periods of low availability to optimize pricing strategies and marketing efforts.\n",
        "\n",
        "5. Visualize Data Patterns: Utilize various visualization techniques to present the findings in a clear and informative manner. This includes histograms, box plots, bar charts, scatter plots, and heatmaps to illustrate key trends and relationships within the data.\n",
        "\n",
        "The analysis aims to provide a comprehensive understanding of Airbnb’s listing dynamics, enabling better strategic decisions related to pricing, marketing, and operational improvements.\n",
        "\n"
      ],
      "metadata": {
        "id": "DpeJGUA3kjGy"
      }
    },
    {
      "cell_type": "markdown",
      "source": [
        "#### **Define Your Business Objective?**"
      ],
      "metadata": {
        "id": "PH-0ReGfmX4f"
      }
    },
    {
      "cell_type": "markdown",
      "source": [
        "The primary business objective of this analysis is to leverage the insights derived from the Airbnb dataset to optimize business strategies and enhance the overall effectiveness of the platform. Specifically, the objectives are:\n",
        "\n",
        "\\\n",
        "\n",
        "\n",
        "1.   **Optimize Pricing Strategies**:\n",
        "\n",
        "*   Objective: To determine the factors that most significantly affect listing prices, including location, property type, and room type.\n",
        "*   Impact: By understanding these factors, Airbnb can provide data-driven recommendations for hosts to set competitive prices that maximize their occupancy rates and revenue. This can also help Airbnb adjust its pricing algorithms to reflect market trends more accurately.\n",
        "\n",
        "\\\n",
        "\n",
        "\n",
        "\n",
        "2.  **Enhance Customer Experience**:\n",
        "\n",
        "\n",
        "*   **Objective**: To analyze the relationship between the number of reviews and listing prices to understand how customer feedback influences perceptions of value.\n",
        "*   **Impact**: Insights from this analysis can guide Airbnb in improving its review system and identifying which factors contribute to higher customer satisfaction. This can lead to better guest experiences and increased repeat bookings.\n",
        "\n",
        "\\\n",
        "\n",
        "\n",
        "3. **Targeted Marketing and Promotions**:\n",
        "\n",
        "* **Objective**: To identify trends in property and room type distributions across different neighborhoods and times of the year.\n",
        "* **Impact**: This information can be used to develop targeted marketing campaigns and promotional strategies that appeal to specific customer segments. For example, promoting high-demand property types in popular neighborhoods or offering special rates during off-peak seasons.\n",
        "\n",
        "\\\n",
        "4. **Strategic Resource Allocation**:\n",
        "* **Objective**: To detect seasonal availability trends and peak times for listings.\n",
        "* **Impact**: Understanding these trends helps Airbnb allocate resources more effectively, plan for peak times, and manage promotional activities. It can also aid in forecasting demand and optimizing the platform's operational strategies.\n",
        "\n",
        "\\\n",
        "5. **Data-Driven Decision Making**:\n",
        "* **Objective**: To present the findings through clear and informative visualizations that highlight key trends and patterns.\n",
        "* **Impact**: Providing stakeholders with accessible and actionable insights supports better decision-making. This includes refining business strategies, improving operational efficiencies, and enhancing the platform’s overall performance.\n",
        "\n",
        "\\\n",
        "\n",
        "\n",
        "\n",
        "By achieving these objectives, Airbnb aims to strengthen its market position, improve user satisfaction, and drive growth through data-driven strategies.\n",
        "\n",
        "\n"
      ],
      "metadata": {
        "id": "PhDvGCAqmjP1"
      }
    },
    {
      "cell_type": "markdown",
      "source": [
        "# **General Guidelines** : -  "
      ],
      "metadata": {
        "id": "mDgbUHAGgjLW"
      }
    },
    {
      "cell_type": "markdown",
      "source": [
        "1.   Well-structured, formatted, and commented code is required.\n",
        "2.   Exception Handling, Production Grade Code & Deployment Ready Code will be a plus. Those students will be awarded some additional credits.\n",
        "     \n",
        "     The additional credits will have advantages over other students during Star Student selection.\n",
        "       \n",
        "             [ Note: - Deployment Ready Code is defined as, the whole .ipynb notebook should be executable in one go\n",
        "                       without a single error logged. ]\n",
        "\n",
        "3.   Each and every logic should have proper comments.\n",
        "4. You may add as many number of charts you want. Make Sure for each and every chart the following format should be answered.\n",
        "        \n",
        "\n",
        "```\n",
        "# Chart visualization code\n",
        "```\n",
        "            \n",
        "\n",
        "*   Why did you pick the specific chart?\n",
        "*   What is/are the insight(s) found from the chart?\n",
        "* Will the gained insights help creating a positive business impact?\n",
        "Are there any insights that lead to negative growth? Justify with specific reason.\n",
        "\n",
        "5. You have to create at least 20 logical & meaningful charts having important insights.\n",
        "\n",
        "\n",
        "[ Hints : - Do the Vizualization in  a structured way while following \"UBM\" Rule.\n",
        "\n",
        "U - Univariate Analysis,\n",
        "\n",
        "B - Bivariate Analysis (Numerical - Categorical, Numerical - Numerical, Categorical - Categorical)\n",
        "\n",
        "M - Multivariate Analysis\n",
        " ]\n",
        "\n",
        "\n",
        "\n"
      ],
      "metadata": {
        "id": "ZrxVaUj-hHfC"
      }
    },
    {
      "cell_type": "markdown",
      "source": [
        "# ***Let's Begin !***"
      ],
      "metadata": {
        "id": "O_i_v8NEhb9l"
      }
    },
    {
      "cell_type": "markdown",
      "source": [
        "## ***1. Know Your Data***"
      ],
      "metadata": {
        "id": "HhfV-JJviCcP"
      }
    },
    {
      "cell_type": "markdown",
      "source": [
        "### Import Libraries"
      ],
      "metadata": {
        "id": "Y3lxredqlCYt"
      }
    },
    {
      "cell_type": "code",
      "source": [
        "# Importing Libraries\n",
        "import numpy as np\n",
        "import pandas as pd\n",
        "import matplotlib.pyplot as plt\n",
        "import seaborn as sns\n",
        "import warnings\n",
        "warnings.filterwarnings('ignore')"
      ],
      "metadata": {
        "id": "M8Vqi-pPk-HR"
      },
      "execution_count": null,
      "outputs": []
    },
    {
      "cell_type": "markdown",
      "source": [
        "### Dataset Loading"
      ],
      "metadata": {
        "id": "3RnN4peoiCZX"
      }
    },
    {
      "cell_type": "code",
      "source": [
        "# Loading Dataset\n",
        "from google.colab import files\n",
        "uploaded = files.upload()"
      ],
      "metadata": {
        "id": "4CkvbW_SlZ_R"
      },
      "execution_count": null,
      "outputs": []
    },
    {
      "cell_type": "code",
      "source": [
        "data = pd.read_csv('/content/Airbnb NYC 2019.csv')"
      ],
      "metadata": {
        "id": "AZRxR4H0CZTQ"
      },
      "execution_count": null,
      "outputs": []
    },
    {
      "cell_type": "markdown",
      "source": [
        "### Dataset First View"
      ],
      "metadata": {
        "id": "x71ZqKXriCWQ"
      }
    },
    {
      "cell_type": "code",
      "source": [
        "# Dataset First Look\n",
        "data"
      ],
      "metadata": {
        "id": "LWNFOSvLl09H"
      },
      "execution_count": null,
      "outputs": []
    },
    {
      "cell_type": "markdown",
      "source": [
        "### Dataset Rows & Columns count"
      ],
      "metadata": {
        "id": "7hBIi_osiCS2"
      }
    },
    {
      "cell_type": "code",
      "source": [
        "# Dataset Rows & Columns count\n",
        "data.shape"
      ],
      "metadata": {
        "id": "Kllu7SJgmLij"
      },
      "execution_count": null,
      "outputs": []
    },
    {
      "cell_type": "markdown",
      "source": [
        "Total no of rows in this dataset is: 48895\n",
        "\n",
        "Total no of columns in this dataset is: 16"
      ],
      "metadata": {
        "id": "gP0e-cn5DYCP"
      }
    },
    {
      "cell_type": "markdown",
      "source": [
        "### Dataset Information"
      ],
      "metadata": {
        "id": "JlHwYmJAmNHm"
      }
    },
    {
      "cell_type": "code",
      "source": [
        "# Dataset Info\n",
        "#It simply provides information about how many columns corresponding rows values are present while counting non null value & also provides the columns data type of which is stored.##\n",
        "data.info()"
      ],
      "metadata": {
        "id": "e9hRXRi6meOf"
      },
      "execution_count": null,
      "outputs": []
    },
    {
      "cell_type": "markdown",
      "source": [
        "#### Duplicate Values"
      ],
      "metadata": {
        "id": "35m5QtbWiB9F"
      }
    },
    {
      "cell_type": "code",
      "source": [
        "# Dataset Duplicate Value Count\n",
        "data.duplicated().sum()"
      ],
      "metadata": {
        "id": "1sLdpKYkmox0"
      },
      "execution_count": null,
      "outputs": []
    },
    {
      "cell_type": "markdown",
      "source": [
        "No duplicated rows in our dataset."
      ],
      "metadata": {
        "id": "RyYidnbNGDAA"
      }
    },
    {
      "cell_type": "markdown",
      "source": [
        "#### Missing Values/Null Values"
      ],
      "metadata": {
        "id": "PoPl-ycgm1ru"
      }
    },
    {
      "cell_type": "code",
      "source": [
        "# Missing Values/Null Values Count\n",
        "data.isna().sum()"
      ],
      "metadata": {
        "id": "GgHWkxvamxVg"
      },
      "execution_count": null,
      "outputs": []
    },
    {
      "cell_type": "code",
      "source": [
        "# Visualizing the missing values\n",
        "# Let us handle the missing values\n",
        "# first let us fill the na values for column name and host_name since they both are categorical data\n",
        "\n",
        "data['name'].fillna(data['name'].mode()[0], inplace=True)       # using mode to fill both the categorical columns and using [0] to get the first value if there are multiple modes\n",
        "\n",
        "data['host_name'].fillna(data['host_name'].mode()[0], inplace=True)\n"
      ],
      "metadata": {
        "id": "3q5wnI3om9sJ"
      },
      "execution_count": null,
      "outputs": []
    },
    {
      "cell_type": "code",
      "source": [
        "# now let us handle the missing values for the 2 remaining columns i.e last_review &  reviews_per_month\n",
        "\n",
        "#1. Handling last_review column\n",
        "\n",
        "data['last_review'] = pd.to_datetime(data['last_review'], errors='coerce')\n",
        "# Since last_review column is in a date format but stored as an object, we need to first Convert the column to a datetime format\n",
        "data['last_review'].fillna(data['last_review'].median(), inplace=True)   # Filling Na values with median date."
      ],
      "metadata": {
        "id": "8jpzqYnaSpcx"
      },
      "execution_count": null,
      "outputs": []
    },
    {
      "cell_type": "code",
      "source": [
        "# 2. Handling reviews_per_month column\n",
        "# since data type is float we need to first check skewness and then fill it with mean or median\n",
        "data['reviews_per_month'].skew() # 3.13018853561771 - which indicates right skewed so we need to fill the Na values with median"
      ],
      "metadata": {
        "id": "tIs2aRijWsVG"
      },
      "execution_count": null,
      "outputs": []
    },
    {
      "cell_type": "code",
      "source": [
        "# Fill missing values in the column with its median\n",
        "data['reviews_per_month'].fillna(data['reviews_per_month'].median(), inplace=True)"
      ],
      "metadata": {
        "id": "C5LM1gMWYBh4"
      },
      "execution_count": null,
      "outputs": []
    },
    {
      "cell_type": "code",
      "source": [
        "data.isna().sum()  # we have successfully filled the NA Values"
      ],
      "metadata": {
        "id": "nbpBnIF8YJPr"
      },
      "execution_count": null,
      "outputs": []
    },
    {
      "cell_type": "code",
      "source": [
        "# Creating columns for year and month of last_review\n",
        "data['last_review_year'] = data['last_review'].dt.year\n",
        "data['last_review_month'] = data['last_review'].dt.month_name()"
      ],
      "metadata": {
        "id": "FERD2_wla3uZ"
      },
      "execution_count": null,
      "outputs": []
    },
    {
      "cell_type": "code",
      "source": [
        "data # final look of cleared and wrangled data"
      ],
      "metadata": {
        "id": "4pGmNszzbmC_"
      },
      "execution_count": null,
      "outputs": []
    },
    {
      "cell_type": "markdown",
      "source": [
        "### What did you know about your dataset?"
      ],
      "metadata": {
        "id": "H0kj-8xxnORC"
      }
    },
    {
      "cell_type": "markdown",
      "source": [
        "**Insights of Air BNB Dataset**\n",
        "\n",
        "\n",
        "\n",
        "1.   **Size & Structure:**\n",
        "\n",
        "\n",
        "*   The dataset contains 48,895 listings across New York City.\n",
        "*   There are 16 columns, including both numeric and categorical data types.\n",
        "\n",
        "\\\n",
        "\n",
        "2.   **Key Attributes:**\n",
        "\n",
        "* It includes host and listing details such as the host name, host ID, and the location of the listing (latitude, longitude, neighborhood).\n",
        "\n",
        "* Information on pricing, room type, minimum nights required, and availability (in terms of days per year) is provided.\n",
        "\n",
        "* We can also see data on the number of reviews, the last review date, and reviews per month, offering insights into customer engagement.\n",
        "\n",
        "3. **Data Completeness:**\n",
        "* Most columns were  fully populated except for last_review and reviews_per_month, which had some missing values & we filled it using data wrangling concepts\n",
        "\n",
        "4. **Potential Use Cases:**\n",
        "* The dataset is useful for understanding pricing trends, room type preferences, and neighborhood popularity.\n",
        "\n",
        "* It can also provide insights into host behavior, customer review trends, and availability patterns.\n",
        "\n",
        "\n",
        "\n"
      ],
      "metadata": {
        "id": "gfoNAAC-nUe_"
      }
    },
    {
      "cell_type": "markdown",
      "source": [
        "## ***2. Understanding Your Variables***"
      ],
      "metadata": {
        "id": "nA9Y7ga8ng1Z"
      }
    },
    {
      "cell_type": "code",
      "source": [
        "# Dataset columns - list of our columns\n",
        "print(list(data.columns),end='')"
      ],
      "metadata": {
        "id": "j7xfkqrt5Ag5"
      },
      "execution_count": null,
      "outputs": []
    },
    {
      "cell_type": "code",
      "source": [
        "# Dataset Describe\n",
        "data.describe()"
      ],
      "metadata": {
        "id": "DnOaZdaE5Q5t"
      },
      "execution_count": null,
      "outputs": []
    },
    {
      "cell_type": "markdown",
      "source": [
        "### Variables Description"
      ],
      "metadata": {
        "id": "PBTbrJXOngz2"
      }
    },
    {
      "cell_type": "markdown",
      "source": [
        "**Our Dataset has 16 columns which are described as:**\n",
        "\n",
        "1. id: Unique identifier for each listing.\n",
        "2. name: The name/title of the Airbnb listing.\n",
        "3. host_id: Unique identifier for the host.\n",
        "4. host_name: Name of the host.\n",
        "5. neighbourhood_group: Neighbourhood area or borough where the listing is located (e.g., Brooklyn, Manhattan).\n",
        "6. neighbourhood: Specific neighborhood within the borough where the listing is located.\n",
        "7. latitude: Geographic latitude coordinate of the listing.\n",
        "8. longitude: Geographic longitude coordinate of the listing.\n",
        "9. room_type: The type of room being offered (e.g., Entire home/apt, Private room, Shared room).\n",
        "10. price: Price per night for staying at the listing.\n",
        "11. minimum_nights: The minimum number of nights required for a booking.\n",
        "12. number_of_reviews: The total number of reviews the listing has received.\n",
        "13. last_review: The date when the last review was made.\n",
        "14. reviews_per_month: The average number of reviews the listing receives per month.\n",
        "15. calculated_host_listings_count: The total number of listings the host has.\n",
        "16. availability_365: The number of days per year the listing is available for booking"
      ],
      "metadata": {
        "id": "aJV4KIxSnxay"
      }
    },
    {
      "cell_type": "markdown",
      "source": [
        "### Check Unique Values for each variable."
      ],
      "metadata": {
        "id": "u3PMJOP6ngxN"
      }
    },
    {
      "cell_type": "code",
      "source": [
        "# Checking Unique Values for each variable with for loop\n",
        "for x in data.columns:\n",
        "  print(x)\n",
        "  print(data[x].unique())\n",
        "  print()"
      ],
      "metadata": {
        "id": "zms12Yq5n-jE"
      },
      "execution_count": null,
      "outputs": []
    },
    {
      "cell_type": "code",
      "source": [
        "data['room_type'].value_counts() # Getting Insights for value counts of different types of room type availaible"
      ],
      "metadata": {
        "id": "iqstq0y7QBJz"
      },
      "execution_count": null,
      "outputs": []
    },
    {
      "cell_type": "markdown",
      "source": [
        "## 3. ***Data Wrangling***"
      ],
      "metadata": {
        "id": "dauF4eBmngu3"
      }
    },
    {
      "cell_type": "markdown",
      "source": [
        "### Data Wrangling Code"
      ],
      "metadata": {
        "id": "bKJF3rekwFvQ"
      }
    },
    {
      "cell_type": "code",
      "source": [
        "# Write your code to make your dataset analysis ready.\n",
        "# We have already wrangled our data in our basic checks and made it analysis ready , lets have a look at it\n",
        "data"
      ],
      "metadata": {
        "id": "wk-9a2fpoLcV"
      },
      "execution_count": null,
      "outputs": []
    },
    {
      "cell_type": "markdown",
      "source": [
        "### What all manipulations have you done and insights you found?"
      ],
      "metadata": {
        "id": "MSa1f5Uengrz"
      }
    },
    {
      "cell_type": "markdown",
      "source": [
        "**We have done the following manipulations and found various insights:**\n",
        "\n",
        "1. **Filling Null Values:** The Columns 'name' , 'host_name', 'last_review' & 'reviews_per_month' had some null values but we handled it by fillna method.\n",
        "2.  **Finding Unique counts:** We also saw unique values for each column.\n",
        "3. **Conversion & Creation of Columns:** We converted last review column to Datetime format using pandas and also creadted columns for last_review_year and last_review_month.\n",
        "4. **Using Pandas Methods:** We also used various Dataframe methods like data.info() , data.head() , data.tail() , data.describe() etc to get basic and stastical insight of our data.\n",
        "5. **Value Counts:** We also calculated value counts for room types available which shows that the shared room types are very less in number and most of them are either privte room or entire home / apartment."
      ],
      "metadata": {
        "id": "LbyXE7I1olp8"
      }
    },
    {
      "cell_type": "markdown",
      "source": [
        "## ***4. Data Vizualization, Storytelling & Experimenting with charts : Understand the relationships between variables***"
      ],
      "metadata": {
        "id": "GF8Ens_Soomf"
      }
    },
    {
      "cell_type": "markdown",
      "source": [
        "#### **Chart - 1  Distribution of Room Types:**"
      ],
      "metadata": {
        "id": "0wOQAZs5pc--"
      }
    },
    {
      "cell_type": "code",
      "source": [
        "# Plotting the distribution of room types\n",
        "plt.figure(figsize=(5, 3))\n",
        "sns.countplot(data=data, x='room_type', palette='viridis')\n",
        "plt.title('Distribution of Room Types', fontsize=16)\n",
        "plt.xlabel('Room Type', fontsize=12)\n",
        "plt.ylabel('Count', fontsize=12)\n",
        "plt.show()"
      ],
      "metadata": {
        "id": "7v_ESjsspbW7"
      },
      "execution_count": null,
      "outputs": []
    },
    {
      "cell_type": "markdown",
      "source": [
        "##### 1. Why did you pick the specific chart?"
      ],
      "metadata": {
        "id": "K5QZ13OEpz2H"
      }
    },
    {
      "cell_type": "markdown",
      "source": [
        "To visualize the frequency distribution of different room types. This helps in understanding which type of rooms is more commonly listed in the dataset."
      ],
      "metadata": {
        "id": "XESiWehPqBRc"
      }
    },
    {
      "cell_type": "markdown",
      "source": [
        "##### 2. What is/are the insight(s) found from the chart?"
      ],
      "metadata": {
        "id": "lQ7QKXXCp7Bj"
      }
    },
    {
      "cell_type": "markdown",
      "source": [
        "* The chart shows that \"Entire home/apt\" is the most common room type, followed by \"Private room\" and \"Shared room.\""
      ],
      "metadata": {
        "id": "C_j1G7yiqdRP"
      }
    },
    {
      "cell_type": "markdown",
      "source": [
        "##### 3. Will the gained insights help creating a positive business impact?\n",
        "Are there any insights that lead to negative growth? Justify with specific reason."
      ],
      "metadata": {
        "id": "448CDAPjqfQr"
      }
    },
    {
      "cell_type": "markdown",
      "source": [
        "* **Insight:** Entire home/apt dominates the listings.\n",
        "\n",
        "* **Negative Growth Potential:** There could be lower occupancy rates in Entire home/apt , especially if budget travelers prefer \"Private rooms\" or \"Shared rooms.\""
      ],
      "metadata": {
        "id": "3cspy4FjqxJW"
      }
    },
    {
      "cell_type": "markdown",
      "source": [
        "#### **Chart - 2 Price Distribution:**"
      ],
      "metadata": {
        "id": "KSlN3yHqYklG"
      }
    },
    {
      "cell_type": "code",
      "source": [
        "plt.figure(figsize=(8, 4))\n",
        "sns.histplot(data=data, x='price', bins=50, kde=True, color='blue')\n",
        "plt.xlim(0,1000) # limiting the graph till price of 1000 since very few properties outside this range.\n",
        "plt.title('Price Distribution', fontsize=16)\n",
        "plt.xlabel('Price', fontsize=12)\n",
        "plt.ylabel('Frequency', fontsize=12)\n",
        "plt.show()"
      ],
      "metadata": {
        "id": "R4YgtaqtYklH"
      },
      "execution_count": null,
      "outputs": []
    },
    {
      "cell_type": "markdown",
      "source": [
        "##### 1. Why did you pick the specific chart?"
      ],
      "metadata": {
        "id": "t6dVpIINYklI"
      }
    },
    {
      "cell_type": "markdown",
      "source": [
        "To examine the price distribution of listings. This allows us to see the spread of prices and identify any outliers or patterns."
      ],
      "metadata": {
        "id": "5aaW0BYyYklI"
      }
    },
    {
      "cell_type": "markdown",
      "source": [
        "##### 2. What is/are the insight(s) found from the chart?"
      ],
      "metadata": {
        "id": "ijmpgYnKYklI"
      }
    },
    {
      "cell_type": "markdown",
      "source": [
        "* Most listings are concentrated around the lower price range, with a few listings priced significantly higher, indicating some luxury properties in the dataset."
      ],
      "metadata": {
        "id": "PSx9atu2YklI"
      }
    },
    {
      "cell_type": "markdown",
      "source": [
        "##### 3. Will the gained insights help creating a positive business impact?\n",
        "Are there any insights that lead to negative growth? Justify with specific reason."
      ],
      "metadata": {
        "id": "-JiQyfWJYklI"
      }
    },
    {
      "cell_type": "markdown",
      "source": [
        "* **Insight:** Most listings are priced under $500, but there are some extreme high prices indicating some luxury properties in the dataset.\n",
        "\n",
        "* **Negative Growth Potential:** High prices can lead to lower occupancy rates. Overpriced listings may deter budget-conscious travelers."
      ],
      "metadata": {
        "id": "BcBbebzrYklV"
      }
    },
    {
      "cell_type": "markdown",
      "source": [
        "#### **Chart - 3 Distribution of last review month:**"
      ],
      "metadata": {
        "id": "EM7whBJCYoAo"
      }
    },
    {
      "cell_type": "code",
      "source": [
        "plt.figure(figsize=(9, 4))\n",
        "sns.countplot(data=data, x='last_review_month', palette='viridis')\n",
        "plt.title('Distribution of Last Review Month', fontsize=16)\n",
        "plt.xlabel('Month', fontsize=12)\n",
        "plt.ylabel('Count', fontsize=12)\n",
        "plt.tight_layout()\n",
        "plt.show()"
      ],
      "metadata": {
        "id": "t6GMdE67YoAp"
      },
      "execution_count": null,
      "outputs": []
    },
    {
      "cell_type": "markdown",
      "source": [
        "##### 1. Why did you pick the specific chart?"
      ],
      "metadata": {
        "id": "fge-S5ZAYoAp"
      }
    },
    {
      "cell_type": "markdown",
      "source": [
        "To display the distribution of reviews across different months, which can help in understanding customer engagement or feedback trends over time."
      ],
      "metadata": {
        "id": "5dBItgRVYoAp"
      }
    },
    {
      "cell_type": "markdown",
      "source": [
        "##### 2. What is/are the insight(s) found from the chart?"
      ],
      "metadata": {
        "id": "85gYPyotYoAp"
      }
    },
    {
      "cell_type": "markdown",
      "source": [
        "* May and June show significant spikes in the number of reviews, while months like February, March, and November exhibit the least activity."
      ],
      "metadata": {
        "id": "4jstXR6OYoAp"
      }
    },
    {
      "cell_type": "markdown",
      "source": [
        "##### 3. Will the gained insights help creating a positive business impact?\n",
        "Are there any insights that lead to negative growth? Justify with specific reason."
      ],
      "metadata": {
        "id": "RoGjAbkUYoAp"
      }
    },
    {
      "cell_type": "markdown",
      "source": [
        "* By understanding when reviews are more likely to come in (May and June), AirBNB can plan campaigns, customer feedback requests, or promotions accordingly & identifying the cause of the drop could also help prevent negative growth and ensure continuous customer interaction."
      ],
      "metadata": {
        "id": "zfJ8IqMcYoAp"
      }
    },
    {
      "cell_type": "markdown",
      "source": [
        "#### **Chart - 4 Price vs Neighbourhood Group:**"
      ],
      "metadata": {
        "id": "4Of9eVA-YrdM"
      }
    },
    {
      "cell_type": "code",
      "source": [
        "plt.figure(figsize=(10, 4))\n",
        "sns.boxplot(data=data, x='neighbourhood_group', y='price', palette='coolwarm')\n",
        "plt.title('Price Distribution by Neighbourhood Group', fontsize=16)\n",
        "plt.xlabel('Neighbourhood Group', fontsize=12)\n",
        "plt.ylabel('Price', fontsize=12)\n",
        "plt.ylim(0, 1000)  # Limiting to avoid extreme outliers\n",
        "plt.show()"
      ],
      "metadata": {
        "id": "irlUoxc8YrdO"
      },
      "execution_count": null,
      "outputs": []
    },
    {
      "cell_type": "markdown",
      "source": [
        "##### 1. Why did you pick the specific chart?"
      ],
      "metadata": {
        "id": "iky9q4vBYrdO"
      }
    },
    {
      "cell_type": "markdown",
      "source": [
        "To compare the distribution of prices across different neighborhood groups. Effective for identifying price ranges and outliers for each group."
      ],
      "metadata": {
        "id": "aJRCwT6DYrdO"
      }
    },
    {
      "cell_type": "markdown",
      "source": [
        "##### 2. What is/are the insight(s) found from the chart?"
      ],
      "metadata": {
        "id": "F6T5p64dYrdO"
      }
    },
    {
      "cell_type": "markdown",
      "source": [
        "* Listings in Manhattan tend to have the highest prices, while those in Staten Island and the Bronx are generally lower-priced."
      ],
      "metadata": {
        "id": "Xx8WAJvtYrdO"
      }
    },
    {
      "cell_type": "markdown",
      "source": [
        "##### 3. Will the gained insights help creating a positive business impact?\n",
        "Are there any insights that lead to negative growth? Justify with specific reason."
      ],
      "metadata": {
        "id": "y-Ehk30pYrdP"
      }
    },
    {
      "cell_type": "markdown",
      "source": [
        "* Positive business impact - It allows Airbnb to better price its listings based on the neighborhood which can attract more hosts and optimize guest expectations."
      ],
      "metadata": {
        "id": "jLNxxz7MYrdP"
      }
    },
    {
      "cell_type": "markdown",
      "source": [
        "#### **Chart - 5 Room Type vs Price:**"
      ],
      "metadata": {
        "id": "bamQiAODYuh1"
      }
    },
    {
      "cell_type": "code",
      "source": [
        "plt.figure(figsize=(10, 6))\n",
        "sns.boxplot(data=data, x='room_type', y='price', palette='muted')\n",
        "plt.title('Price Distribution by Room Type', fontsize=16)\n",
        "plt.xlabel('Room Type', fontsize=12)\n",
        "plt.ylabel('Price', fontsize=12)\n",
        "plt.ylim(0, 1000)  # Limiting to avoid extreme outliers\n",
        "plt.show()"
      ],
      "metadata": {
        "id": "TIJwrbroYuh3"
      },
      "execution_count": null,
      "outputs": []
    },
    {
      "cell_type": "markdown",
      "source": [
        "##### 1. Why did you pick the specific chart?"
      ],
      "metadata": {
        "id": "QHF8YVU7Yuh3"
      }
    },
    {
      "cell_type": "markdown",
      "source": [
        "To show the spread of prices for different room types."
      ],
      "metadata": {
        "id": "dcxuIMRPYuh3"
      }
    },
    {
      "cell_type": "markdown",
      "source": [
        "##### 2. What is/are the insight(s) found from the chart?"
      ],
      "metadata": {
        "id": "GwzvFGzlYuh3"
      }
    },
    {
      "cell_type": "markdown",
      "source": [
        "* \"Entire home/apt\" listings tend to have the highest prices, while \"Shared room\" listings are the cheapest."
      ],
      "metadata": {
        "id": "uyqkiB8YYuh3"
      }
    },
    {
      "cell_type": "markdown",
      "source": [
        "##### 3. Will the gained insights help creating a positive business impact?\n",
        "Are there any insights that lead to negative growth? Justify with specific reason."
      ],
      "metadata": {
        "id": "qYpmQ266Yuh3"
      }
    },
    {
      "cell_type": "markdown",
      "source": [
        "* **Business Impact:** By identifying pricing strategies for different room types, Airbnb can provide insights to hosts on optimal pricing, making their listings more competitive.\n",
        "\n",
        "* **Negative Growth Potential:** The wider price distribution in \"Entire homes\" might confuse potential customers, especially if there’s no clear value differentiation. Listings priced too high for their offerings may face lower bookings, leading to negative growth."
      ],
      "metadata": {
        "id": "_WtzZ_hCYuh4"
      }
    },
    {
      "cell_type": "markdown",
      "source": [
        "#### **Chart - 6 Number of Reviews vs Room Type:**"
      ],
      "metadata": {
        "id": "OH-pJp9IphqM"
      }
    },
    {
      "cell_type": "code",
      "source": [
        "plt.figure(figsize=(5, 4))\n",
        "sns.boxplot(data=data, x='room_type', y='number_of_reviews', palette='Blues')\n",
        "plt.title('Number of Reviews vs Room Type', fontsize=16)\n",
        "plt.xlabel('Room Type', fontsize=12)\n",
        "plt.ylabel('Number of Reviews', fontsize=12)\n",
        "plt.show()"
      ],
      "metadata": {
        "id": "kuRf4wtuphqN"
      },
      "execution_count": null,
      "outputs": []
    },
    {
      "cell_type": "markdown",
      "source": [
        "##### 1. Why did you pick the specific chart?"
      ],
      "metadata": {
        "id": "bbFf2-_FphqN"
      }
    },
    {
      "cell_type": "markdown",
      "source": [
        "To check which room types tend to receive more reviews. It helps to identify which room types are more popular based on customer feedback."
      ],
      "metadata": {
        "id": "loh7H2nzphqN"
      }
    },
    {
      "cell_type": "markdown",
      "source": [
        "##### 2. What is/are the insight(s) found from the chart?"
      ],
      "metadata": {
        "id": "_ouA3fa0phqN"
      }
    },
    {
      "cell_type": "markdown",
      "source": [
        "* Private rooms have more reviews compared to other room types, possibly due to affordability and demand."
      ],
      "metadata": {
        "id": "VECbqPI7phqN"
      }
    },
    {
      "cell_type": "markdown",
      "source": [
        "##### 3. Will the gained insights help creating a positive business impact?\n",
        "Are there any insights that lead to negative growth? Justify with specific reason."
      ],
      "metadata": {
        "id": "Seke61FWphqN"
      }
    },
    {
      "cell_type": "markdown",
      "source": [
        "* **Business impact:** Insights can help Airbnb suggest strategies to attract more guests to other room types or enhance offerings for highly-reviewed room types."
      ],
      "metadata": {
        "id": "DW4_bGpfphqN"
      }
    },
    {
      "cell_type": "markdown",
      "source": [
        "#### **Chart - 7 Room Type Distribution by Neighbourhood Group:**"
      ],
      "metadata": {
        "id": "PIIx-8_IphqN"
      }
    },
    {
      "cell_type": "code",
      "source": [
        "plt.figure(figsize=(10, 6))\n",
        "sns.countplot(data=data, x='neighbourhood_group', hue='room_type', palette='Set1')\n",
        "plt.title('Room Type Distribution by Neighbourhood Group', fontsize=16)\n",
        "plt.xlabel('Neighbourhood Group', fontsize=12)\n",
        "plt.ylabel('Count', fontsize=12)\n",
        "plt.show()"
      ],
      "metadata": {
        "id": "lqAIGUfyphqO"
      },
      "execution_count": null,
      "outputs": []
    },
    {
      "cell_type": "markdown",
      "source": [
        "##### 1. Why did you pick the specific chart?"
      ],
      "metadata": {
        "id": "t27r6nlMphqO"
      }
    },
    {
      "cell_type": "markdown",
      "source": [
        "To compare the distribution of room types across different neighborhood groups.\n",
        "\n"
      ],
      "metadata": {
        "id": "iv6ro40sphqO"
      }
    },
    {
      "cell_type": "markdown",
      "source": [
        "##### 2. What is/are the insight(s) found from the chart?"
      ],
      "metadata": {
        "id": "r2jJGEOYphqO"
      }
    },
    {
      "cell_type": "markdown",
      "source": [
        "* Manhattan has the highest number of \"Entire home/apt\" listings, while Brooklyn offers a significant number of both \"Private rooms\" and \"Entire homes.\""
      ],
      "metadata": {
        "id": "Po6ZPi4hphqO"
      }
    },
    {
      "cell_type": "markdown",
      "source": [
        "##### 3. Will the gained insights help creating a positive business impact?\n",
        "Are there any insights that lead to negative growth? Justify with specific reason."
      ],
      "metadata": {
        "id": "b0JNsNcRphqO"
      }
    },
    {
      "cell_type": "markdown",
      "source": [
        "* **Business Impact:** Insights can guide Airbnb in optimizing the room type distribution by location and offering targeted promotions for areas with more demand for certain room types.\n",
        "\n",
        "* **Negative Growth Insight:** Not diversifying room types may fail to attract various customer segments (e.g. budget travelers).\n",
        "\n"
      ],
      "metadata": {
        "id": "xvSq8iUTphqO"
      }
    },
    {
      "cell_type": "markdown",
      "source": [
        "#### **Chart - 8 Price vs Minimum Nights Required:**"
      ],
      "metadata": {
        "id": "BZR9WyysphqO"
      }
    },
    {
      "cell_type": "code",
      "source": [
        "plt.figure(figsize=(7, 4))\n",
        "sns.scatterplot(data=data, x='minimum_nights', y='price', color='red')\n",
        "plt.title('Price vs Minimum Nights Required', fontsize=16)\n",
        "plt.xlabel('Minimum Nights', fontsize=12)\n",
        "plt.ylabel('Price', fontsize=12)\n",
        "plt.xlim(0, 30)  # Limiting x-axis for clarity\n",
        "plt.ylim(0, 1000)\n",
        "plt.show()\n"
      ],
      "metadata": {
        "id": "TdPTWpAVphqO"
      },
      "execution_count": null,
      "outputs": []
    },
    {
      "cell_type": "markdown",
      "source": [
        "##### 1. Why did you pick the specific chart?"
      ],
      "metadata": {
        "id": "jj7wYXLtphqO"
      }
    },
    {
      "cell_type": "markdown",
      "source": [
        "To understand the correlation between the minimum nights required and the listing price."
      ],
      "metadata": {
        "id": "Ob8u6rCTphqO"
      }
    },
    {
      "cell_type": "markdown",
      "source": [
        "##### 2. What is/are the insight(s) found from the chart?"
      ],
      "metadata": {
        "id": "eZrbJ2SmphqO"
      }
    },
    {
      "cell_type": "markdown",
      "source": [
        "* Listings that require more minimum nights tend to be priced higher, although there are exceptions with some high-priced listings requiring fewer nights."
      ],
      "metadata": {
        "id": "mZtgC_hjphqO"
      }
    },
    {
      "cell_type": "markdown",
      "source": [
        "##### 3. Will the gained insights help creating a positive business impact?\n",
        "Are there any insights that lead to negative growth? Justify with specific reason."
      ],
      "metadata": {
        "id": "rFu4xreNphqO"
      }
    },
    {
      "cell_type": "markdown",
      "source": [
        "* This relationship can help hosts optimize their pricing strategy to attract longer stays or higher-paying guests."
      ],
      "metadata": {
        "id": "ey_0qi68phqO"
      }
    },
    {
      "cell_type": "markdown",
      "source": [
        "#### **Chart - 9 Price vs Room Type by Neighbourhood Group:**"
      ],
      "metadata": {
        "id": "YJ55k-q6phqO"
      }
    },
    {
      "cell_type": "code",
      "source": [
        "plt.figure(figsize=(7, 5))\n",
        "sns.boxplot(data=data, x='room_type', y='price', hue='neighbourhood_group', palette='pastel')\n",
        "plt.title('Price vs Room Type by Neighbourhood Group', fontsize=16)\n",
        "plt.xlabel('Room Type', fontsize=12)\n",
        "plt.ylabel('Price', fontsize=12)\n",
        "plt.ylim(0, 1000)  # Limiting to avoid extreme outliers\n",
        "plt.show()"
      ],
      "metadata": {
        "id": "B2aS4O1ophqO"
      },
      "execution_count": null,
      "outputs": []
    },
    {
      "cell_type": "markdown",
      "source": [
        "##### 1. Why did you pick the specific chart?"
      ],
      "metadata": {
        "id": "gCFgpxoyphqP"
      }
    },
    {
      "cell_type": "markdown",
      "source": [
        "To show the distribution of price within room types, where the hue represents neighborhood."
      ],
      "metadata": {
        "id": "TVxDimi2phqP"
      }
    },
    {
      "cell_type": "markdown",
      "source": [
        "##### 2. What is/are the insight(s) found from the chart?"
      ],
      "metadata": {
        "id": "OVtJsKN_phqQ"
      }
    },
    {
      "cell_type": "markdown",
      "source": [
        "* **Entire home/apt** listings generally have higher prices, with Manhattan showing the highest median and upper price range.\n",
        "\n",
        "* **Private rooms** show lower price ranges compared to entire apartments, with Manhattan again having the highest prices.\n",
        "\n",
        "* **Shared rooms** are generally the cheapest across all neighborhoods, with the least variance in prices.\n",
        "\n",
        "Prices in neighborhoods like Manhattan are significantly higher compared to others like the Bronx, Staten Island, or Queens, for all room types.\n"
      ],
      "metadata": {
        "id": "ngGi97qjphqQ"
      }
    },
    {
      "cell_type": "markdown",
      "source": [
        "##### 3. Will the gained insights help creating a positive business impact?\n",
        "Are there any insights that lead to negative growth? Justify with specific reason."
      ],
      "metadata": {
        "id": "lssrdh5qphqQ"
      }
    },
    {
      "cell_type": "markdown",
      "source": [
        "* These insights are valuable for pricing strategies and understanding customer preferences. This helps Airbnb and hosts adjust their pricing strategies based on neighborhood group and room type to maximize competitiveness.\n",
        "\n",
        "* **Insights that can have a negative growth -** Price Sensitivity , Limited Demand for High-End Listings , focus too much on high-priced markets like Manhattan may result in larger volume of bookings from price-sensitive customers."
      ],
      "metadata": {
        "id": "tBpY5ekJphqQ"
      }
    },
    {
      "cell_type": "markdown",
      "source": [
        "#### **Chart - 10  Number of Listings by Host vs Price:**"
      ],
      "metadata": {
        "id": "U2RJ9gkRphqQ"
      }
    },
    {
      "cell_type": "code",
      "source": [
        "plt.figure(figsize=(8, 4))\n",
        "sns.scatterplot(data=data, x='calculated_host_listings_count', y='price', hue='room_type', palette='magma', alpha=0.7)\n",
        "plt.title('Number of Listings by Host vs Price', fontsize=16)\n",
        "plt.xlabel('Number of Listings by Host', fontsize=12)\n",
        "plt.ylabel('Price', fontsize=12)\n",
        "plt.xlim(0, 26)  # Limiting x-axis for clarity\n",
        "plt.show()"
      ],
      "metadata": {
        "id": "GM7a4YP4phqQ"
      },
      "execution_count": null,
      "outputs": []
    },
    {
      "cell_type": "markdown",
      "source": [
        "##### 1. Why did you pick the specific chart?"
      ],
      "metadata": {
        "id": "1M8mcRywphqQ"
      }
    },
    {
      "cell_type": "markdown",
      "source": [
        "To show the number of listings managed by hosts correlates with the price of their listings."
      ],
      "metadata": {
        "id": "8agQvks0phqQ"
      }
    },
    {
      "cell_type": "markdown",
      "source": [
        "##### 2. What is/are the insight(s) found from the chart?"
      ],
      "metadata": {
        "id": "tgIPom80phqQ"
      }
    },
    {
      "cell_type": "markdown",
      "source": [
        "* Hosts with more listings tend to manage lower-priced properties, likely catering to budget-conscious travelers & vice versa.\n",
        "\n"
      ],
      "metadata": {
        "id": "Qp13pnNzphqQ"
      }
    },
    {
      "cell_type": "markdown",
      "source": [
        "##### 3. Will the gained insights help creating a positive business impact?\n",
        "Are there any insights that lead to negative growth? Justify with specific reason."
      ],
      "metadata": {
        "id": "JMzcOPDDphqR"
      }
    },
    {
      "cell_type": "markdown",
      "source": [
        "* These insights can guide Airbnb in providing customized support to hosts based on their portfolio size, offering pricing tips based on data."
      ],
      "metadata": {
        "id": "R4Ka1PC2phqR"
      }
    },
    {
      "cell_type": "markdown",
      "source": [
        "#### **Chart - 11 Minimum Nights Required by Neighbourhood Group:**"
      ],
      "metadata": {
        "id": "x-EpHcCOp1ci"
      }
    },
    {
      "cell_type": "code",
      "source": [
        "plt.figure(figsize=(10, 6))\n",
        "sns.boxplot(data=data, x='neighbourhood_group', y='minimum_nights', palette='cool')\n",
        "plt.title('Minimum Nights Required by Neighbourhood Group', fontsize=16)\n",
        "plt.xlabel('Neighbourhood Group', fontsize=12)\n",
        "plt.ylabel('Minimum Nights', fontsize=12)\n",
        "plt.ylim(0, 30)  # Limiting minimum night stays to 30\n",
        "plt.show()"
      ],
      "metadata": {
        "id": "mAQTIvtqp1cj"
      },
      "execution_count": null,
      "outputs": []
    },
    {
      "cell_type": "markdown",
      "source": [
        "##### 1. Why did you pick the specific chart?"
      ],
      "metadata": {
        "id": "X_VqEhTip1ck"
      }
    },
    {
      "cell_type": "markdown",
      "source": [
        "* To compare the distribution of minimum nights required across different neighborhood groups.\n",
        "\n"
      ],
      "metadata": {
        "id": "-vsMzt_np1ck"
      }
    },
    {
      "cell_type": "markdown",
      "source": [
        "##### 2. What is/are the insight(s) found from the chart?"
      ],
      "metadata": {
        "id": "8zGJKyg5p1ck"
      }
    },
    {
      "cell_type": "markdown",
      "source": [
        "* Listings in Manhattan have higher minimum night requirements compared to other neighborhoods, with Brooklyn having the lowest."
      ],
      "metadata": {
        "id": "ZYdMsrqVp1ck"
      }
    },
    {
      "cell_type": "markdown",
      "source": [
        "##### 3. Will the gained insights help creating a positive business impact?\n",
        "Are there any insights that lead to negative growth? Justify with specific reason."
      ],
      "metadata": {
        "id": "PVzmfK_Ep1ck"
      }
    },
    {
      "cell_type": "markdown",
      "source": [
        "* The gained insights will help understanding minimum night trends by neighborhood that can help hosts adjust their policies to cater to guests looking for shorter stays, potentially attracting more bookings."
      ],
      "metadata": {
        "id": "druuKYZpp1ck"
      }
    },
    {
      "cell_type": "markdown",
      "source": [
        "#### **Chart - 12  Average Price by Room Type Across Neighborhoods:**"
      ],
      "metadata": {
        "id": "n3dbpmDWp1ck"
      }
    },
    {
      "cell_type": "code",
      "source": [
        "# let us first calculate the avg price by room type for neighborhoods\n",
        "avg_price_neighborhood = data.groupby(['neighbourhood_group', 'room_type'])['price'].mean().reset_index()\n",
        "\n",
        "#Plotting the bar plot\n",
        "plt.figure(figsize=(8, 4))\n",
        "sns.set_style(\"whitegrid\")\n",
        "sns.barplot(data=avg_price_neighborhood,x='neighbourhood_group', y='price', hue='room_type', palette='muted')\n",
        "plt.title('Average Price by Room Type Across Neighborhoods', fontsize=16)\n",
        "plt.xlabel('Neighborhood Group', fontsize=12)\n",
        "plt.ylabel('Average Price (USD)', fontsize=12)\n",
        "\n",
        "plt.legend(title='Room Type')\n",
        "plt.tight_layout()\n",
        "plt.show()"
      ],
      "metadata": {
        "id": "bwevp1tKp1ck"
      },
      "execution_count": null,
      "outputs": []
    },
    {
      "cell_type": "markdown",
      "source": [
        "##### 1. Why did you pick the specific chart?"
      ],
      "metadata": {
        "id": "ylSl6qgtp1ck"
      }
    },
    {
      "cell_type": "markdown",
      "source": [
        "To provide a clear comparison of the average price of different room types (Entire home/apt, Private room, Shared room) across various neighborhood groups."
      ],
      "metadata": {
        "id": "m2xqNkiQp1ck"
      }
    },
    {
      "cell_type": "markdown",
      "source": [
        "##### 2. What is/are the insight(s) found from the chart?"
      ],
      "metadata": {
        "id": "ZWILFDl5p1ck"
      }
    },
    {
      "cell_type": "markdown",
      "source": [
        "* Manhattan has the highest average price for entire home/apartment rentals, followed by Brooklyn and Queens.\n",
        "\n",
        "* For private rooms, Manhattan remains the most expensive, while the other neighborhoods have more comparable average prices, while Staten Island is the most affordable.\n",
        "\n",
        "* Shared rooms are consistently cheaper across all neighborhoods, but Manhattan leads in price, followed by Brooklyn and Queens.\n",
        "\n",
        "* The Bronx and Staten Island have the lowest average prices for all room types, making them more attractive for budget-conscious travelers."
      ],
      "metadata": {
        "id": "x-lUsV2mp1ck"
      }
    },
    {
      "cell_type": "markdown",
      "source": [
        "##### 3. Will the gained insights help creating a positive business impact?\n",
        "Are there any insights that lead to negative growth? Justify with specific reason."
      ],
      "metadata": {
        "id": "M7G43BXep1ck"
      }
    },
    {
      "cell_type": "markdown",
      "source": [
        "* AirBNB & hosts can use this insights to better understand market dynamics and price their listings competitively. For example, those listing properties in Manhattan may set higher prices, while those in Staten Island or the Bronx can highlight their affordability as a selling point.\n",
        "\n",
        "* The high average price in Manhattan could lead to negative growth if overpricing drives away travelers who find better deals in nearby neighborhoods like Brooklyn or Queens. Hosts in Manhattan should balance high prices with competitive offerings or additional amenities to maintain demand."
      ],
      "metadata": {
        "id": "5wwDJXsLp1cl"
      }
    },
    {
      "cell_type": "markdown",
      "source": [
        "#### **Chart - 13 Room Type vs. Price vs. Number of Reviews:**"
      ],
      "metadata": {
        "id": "Ag9LCva-p1cl"
      }
    },
    {
      "cell_type": "code",
      "source": [
        "try:\n",
        "    plt.figure(figsize=(8,4))\n",
        "    sns.scatterplot(data=data, x='price', y='number_of_reviews', hue='room_type')\n",
        "\n",
        "    # Adding titles and labels\n",
        "    plt.title('Room Type, Price, and Number of Reviews', fontsize=16)\n",
        "    plt.xlabel('Price (USD)', fontsize=12)\n",
        "    plt.ylabel('Number of Reviews', fontsize=12)\n",
        "    plt.xlim(0, 1000)  # Limiting to $1000 for better visualization\n",
        "    plt.show()\n",
        "\n",
        "except Exception as e:\n",
        "    print(f\"An error occurred while plotting Room Type vs Price vs Number of Reviews: {e}\")\n"
      ],
      "metadata": {
        "id": "EUfxeq9-p1cl"
      },
      "execution_count": null,
      "outputs": []
    },
    {
      "cell_type": "markdown",
      "source": [
        "##### 1. Why did you pick the specific chart?"
      ],
      "metadata": {
        "id": "E6MkPsBcp1cl"
      }
    },
    {
      "cell_type": "markdown",
      "source": [
        "To compare how room type and pricing affect customer feedback (reviews).\n",
        "\n"
      ],
      "metadata": {
        "id": "V22bRsFWp1cl"
      }
    },
    {
      "cell_type": "markdown",
      "source": [
        "##### 2. What is/are the insight(s) found from the chart?"
      ],
      "metadata": {
        "id": "2cELzS2fp1cl"
      }
    },
    {
      "cell_type": "markdown",
      "source": [
        "* Lower-priced private rooms tend to attract more reviews, while higher-priced entire homes have fewer reviews due to budget constraint travellers.\n",
        "\n",
        "* Entire homes/apartments, despite being more expensive, still receive reviews, but fewer listings in the higher price range have reviews exceeding 100, showing a potential price sensitivity among customers.\n",
        "\n"
      ],
      "metadata": {
        "id": "ozQPc2_Ip1cl"
      }
    },
    {
      "cell_type": "markdown",
      "source": [
        "##### 3. Will the gained insights help creating a positive business impact?\n",
        "Are there any insights that lead to negative growth? Justify with specific reason."
      ],
      "metadata": {
        "id": "3MPXvC8up1cl"
      }
    },
    {
      "cell_type": "markdown",
      "source": [
        "* Hosts of lower-cost listings can focus on enhancing customer experience to gain more reviews, while higher-end listings can strategize to attract more reviews despite lower customer turnover.\n",
        "\n",
        "* If a significant portion of the business is focused on premium-priced entire homes, it may lead to slower growth in terms of customer acquisition and engagement, as fewer customers seem willing to book or review these high-end properties."
      ],
      "metadata": {
        "id": "GL8l1tdLp1cl"
      }
    },
    {
      "cell_type": "markdown",
      "source": [
        "#### **Chart - 14 Room Type Distribution by Pie Chart:**"
      ],
      "metadata": {
        "id": "NTo1nsoJ2Sa6"
      }
    },
    {
      "cell_type": "code",
      "source": [
        "room_type_counts = data['room_type'].value_counts()  # Getting counts for each room type\n",
        "plt.figure(figsize=(5, 4))\n",
        "plt.pie(room_type_counts, labels=room_type_counts.index, autopct='%1.1f%%', startangle=90, colors=['lightblue', 'lightgreen', 'lightcoral'])\n",
        "plt.title('Distribution of Room Types')\n",
        "plt.show()\n"
      ],
      "metadata": {
        "id": "z-sxX3It2ydX"
      },
      "execution_count": null,
      "outputs": []
    },
    {
      "cell_type": "markdown",
      "source": [
        "##### 1. Why did you pick the specific chart?"
      ],
      "metadata": {
        "id": "QhnTxhAQCBgj"
      }
    },
    {
      "cell_type": "markdown",
      "source": [
        "To compare the relative sizes of different categories and understand the most popular room types on the platform. This choice helps us quickly see which room types dominate the Airbnb market in New York City."
      ],
      "metadata": {
        "id": "zAPbWnq1CLTI"
      }
    },
    {
      "cell_type": "markdown",
      "source": [
        "##### 2. What is/are the insight(s) found from the chart?"
      ],
      "metadata": {
        "id": "PN7vb2Z0CK1t"
      }
    },
    {
      "cell_type": "markdown",
      "source": [
        "* Entire home/apt takes up the largest slice, indicating that most hosts offer entire properties rather than individual rooms.\n",
        "\n",
        "* A smaller slice for Shared room indicates lower demand or supply for this accommodation."
      ],
      "metadata": {
        "id": "R5rcm8h-CVru"
      }
    },
    {
      "cell_type": "markdown",
      "source": [
        "##### 3. Will the gained insights help creating a positive business impact?\n",
        "Are there any insights that lead to negative growth? Justify with specific reason."
      ],
      "metadata": {
        "id": "kqdHonbACWj3"
      }
    },
    {
      "cell_type": "markdown",
      "source": [
        "* Hosts can adjust their offerings based on market demand. For instance, if Entire home/apt is highly favored, hosts might consider listing entire properties rather than just rooms to attract more bookings & Airbnb can use this data to optimize search algorithms, pricing, or incentives based on popular room types.\n",
        "\n",
        "* Hosts offering similar listings may face increased competition, resulting in price wars or reduced profitability. A lack of diversity in room types might indicate an overreliance on a single category, which could be risky if consumer preferences shift or if regulations change"
      ],
      "metadata": {
        "id": "KPBQCfTvCkNy"
      }
    },
    {
      "cell_type": "markdown",
      "source": [
        "#### **Chart - 15 Graph with Subplots:**"
      ],
      "metadata": {
        "id": "tby-kTvrHqNS"
      }
    },
    {
      "cell_type": "code",
      "source": [
        "# Set up the figure for subplots with 2 rows and 2 columns\n",
        "fig, axs = plt.subplots(2, 2, figsize=(10, 10))\n",
        "\n",
        "# 1st subplot: Bar chart for average price by neighbourhood group\n",
        "avg_price_by_neighbourhood_group = data.groupby('neighbourhood_group')['price'].mean()\n",
        "axs[0, 0].bar(avg_price_by_neighbourhood_group.index, avg_price_by_neighbourhood_group, color='red')\n",
        "axs[0, 0].set_title('Average Price by Neighbourhood Group')\n",
        "axs[0, 0].set_xlabel('Neighbourhood Group')\n",
        "axs[0, 0].set_ylabel('Average Price ($)')\n",
        "\n",
        "# 2nd subplot: Bar chart for number of reviews by room type\n",
        "num_reviews_by_room_type = data.groupby('room_type')['number_of_reviews'].sum()\n",
        "axs[0, 1].bar(num_reviews_by_room_type.index, num_reviews_by_room_type, color='yellow')\n",
        "axs[0, 1].set_title('Number of Reviews by Room Type')\n",
        "axs[0, 1].set_xlabel('Room Type')\n",
        "axs[0, 1].set_ylabel('Total Reviews')\n",
        "\n",
        "# 3rd subplot: Bar chart for average availability by room type\n",
        "avg_availability_by_room_type = data.groupby('room_type')['availability_365'].mean()\n",
        "axs[1, 0].bar(avg_availability_by_room_type.index, avg_availability_by_room_type, color='green')\n",
        "axs[1, 0].set_title('Average Availability by Room Type (Days)')\n",
        "axs[1, 0].set_xlabel('Room Type')\n",
        "axs[1, 0].set_ylabel('Average Availability (Days)')\n",
        "\n",
        "# 4th subplot: Bar chart for average minimum nights by room type\n",
        "avg_minimum_nights_by_room_type = data.groupby('room_type')['minimum_nights'].mean()\n",
        "axs[1, 1].bar(avg_minimum_nights_by_room_type.index, avg_minimum_nights_by_room_type, color='blue')\n",
        "axs[1, 1].set_title('Average Minimum Nights by Room Type')\n",
        "axs[1, 1].set_xlabel('Room Type')\n",
        "axs[1, 1].set_ylabel('Average Minimum Nights')\n",
        "\n",
        "# Display the subplots\n",
        "plt.tight_layout()\n",
        "plt.show()\n"
      ],
      "metadata": {
        "id": "dQBQ-70_IJYJ"
      },
      "execution_count": null,
      "outputs": []
    },
    {
      "cell_type": "markdown",
      "source": [
        "##### 1. Why did you pick the specific chart?"
      ],
      "metadata": {
        "id": "60IEDcYNIG61"
      }
    },
    {
      "cell_type": "markdown",
      "source": [
        "To show different subplots on the single graph and to get the insights regarding it."
      ],
      "metadata": {
        "id": "d02gQ5GYJJ-S"
      }
    },
    {
      "cell_type": "markdown",
      "source": [
        "##### 2. What is/are the insight(s) found from the chart?"
      ],
      "metadata": {
        "id": "InDTx4hIJKpX"
      }
    },
    {
      "cell_type": "markdown",
      "source": [
        "* **Neighborhood Group Prices:** Manhattan has the highest average price, followed by Brooklyn. Bronx and Staten Island have significantly lower average prices.\n",
        "\n",
        "* **Room Type Reviews:** Entire home/apt has the highest number of reviews, followed by private rooms. Shared rooms have the lowest number of reviews.\n",
        "\n",
        "* **Room Type Availability:** Entire home/apt has the highest average availability, while shared rooms have the lowest.\n",
        "\n",
        "* **Room Type Minimum Nights:** Entire home/apt has the highest average minimum nights, followed by private rooms. Shared rooms have the lowest average minimum nights."
      ],
      "metadata": {
        "id": "4FISlEmZJP1o"
      }
    },
    {
      "cell_type": "markdown",
      "source": [
        "##### 3. Will the gained insights help creating a positive business impact?\n",
        "Are there any insights that lead to negative growth? Justify with specific reason."
      ],
      "metadata": {
        "id": "ovNuAi3SJQpR"
      }
    },
    {
      "cell_type": "markdown",
      "source": [
        "* By understanding the pricing differences between neighborhoods and room types, Airbnb can optimize its pricing algorithm to maximize revenue.\n",
        "\n",
        "* The data on availability can help Airbnb manage its inventory more effectively, ensuring that there are enough listings available to meet demand, especially during peak seasons.\n",
        "\n",
        "* The data on minimum nights can inform Airbnb's decisions about introducing new product features or offerings, such as flexible stays or longer-term rentals.\n",
        "\n",
        "* If shared rooms continue to have lower review numbers and availability, it might lead to a decrease in demand for this room type. This could negatively impact Airbnb's revenue if it relies heavily on shared rooms. To mitigate this, Airbnb could implement strategies to improve the appeal of shared rooms, such as offering additional amenities or discounts.\n",
        "\n",
        "* If the price difference between neighborhoods becomes too significant, it might deter potential guests from considering less expensive options, limiting Airbnb's customer base. To address this, Airbnb could explore ways to make less expensive neighborhoods more attractive, such as highlighting unique features or experiences.\n",
        "\n"
      ],
      "metadata": {
        "id": "v6qndGerJlri"
      }
    },
    {
      "cell_type": "markdown",
      "source": [
        "#### **Chart - 16 - Correlation Heatmap:**"
      ],
      "metadata": {
        "id": "NC_X3p0fY2L0"
      }
    },
    {
      "cell_type": "code",
      "source": [
        "# Correlation Heatmap visualization code\n",
        "# taking the numerical columns again for the correlation heatmap chart.\n",
        "num_columns =  data.select_dtypes(include=['float64', 'int64'])\n",
        "correlation_matrix = num_columns.corr()\n",
        "plt.figure(figsize=(8, 6))\n",
        "sns.heatmap(correlation_matrix, annot=True, cmap='coolwarm', fmt=\".2f\", linewidths=0.5)\n",
        "plt.title('Correlation Heatmap')\n",
        "plt.show()"
      ],
      "metadata": {
        "id": "xyC9zolEZNRQ"
      },
      "execution_count": null,
      "outputs": []
    },
    {
      "cell_type": "markdown",
      "source": [
        "##### 1. Why did you pick the specific chart?"
      ],
      "metadata": {
        "id": "UV0SzAkaZNRQ"
      }
    },
    {
      "cell_type": "markdown",
      "source": [
        "To visualize the strength and direction of correlations between different numerical variables. It enhances the ability to assess linear dependencies between numerical features by using color gradients to highlight the strength and direction of those correlations."
      ],
      "metadata": {
        "id": "DVPuT8LYZNRQ"
      }
    },
    {
      "cell_type": "markdown",
      "source": [
        "##### 2. What is/are the insight(s) found from the chart?"
      ],
      "metadata": {
        "id": "YPEH6qLeZNRQ"
      }
    },
    {
      "cell_type": "markdown",
      "source": [
        "* The variable price appears to have a negative correlation with availability_365, indicating that more expensive listings might be less available (likely because they are booked more frequently).\n",
        "\n",
        "* Many of the other variables, such as latitude and longitude, show weak or no correlation with each other.\n",
        "\n",
        "* There is a strong positive correlation between reviews_per_month and number_of_reviews. This suggests that listings receiving more reviews overall tend to get reviews more frequently each month. It could imply that popular listings maintain consistent engagement over time.\n",
        "\n",
        "\n",
        "* The variable calculated_host_listings_count has a slight positive correlation with availability_365. This could suggest that hosts managing more listings may have greater availability for bookings throughout the year, likely due to better resource management or property distribution.\n"
      ],
      "metadata": {
        "id": "bfSqtnDqZNRR"
      }
    },
    {
      "cell_type": "markdown",
      "source": [
        "#### **Chart - 17 - Pair Plot:**"
      ],
      "metadata": {
        "id": "q29F0dvdveiT"
      }
    },
    {
      "cell_type": "code",
      "source": [
        "# Since pairplot contain all the numerical columns let us filter them out first.\n",
        "num_columns = data.select_dtypes(include=('int64','float64'))\n",
        "num_columns"
      ],
      "metadata": {
        "id": "o58-TEIhveiU"
      },
      "execution_count": null,
      "outputs": []
    },
    {
      "cell_type": "code",
      "source": [
        "# taking the necessary columns required for pairplot\n",
        "num_columns = ['price', 'number_of_reviews', 'minimum_nights', 'availability_365']\n",
        "plt.figure(figsize=(10,8))\n",
        "sns.pairplot(data[num_columns]) # creating the pairplot\n",
        "plt.show()"
      ],
      "metadata": {
        "id": "cE4xsXbYEorC"
      },
      "execution_count": null,
      "outputs": []
    },
    {
      "cell_type": "markdown",
      "source": [
        "##### 1. Why did you pick the specific chart?"
      ],
      "metadata": {
        "id": "EXh0U9oCveiU"
      }
    },
    {
      "cell_type": "markdown",
      "source": [
        "Since pairplot shows the relationship between the numerical columns of a dataset this chart also shows the relationship between the meaningful numerical columns such as price , availaibility , minimum nights required and number of reviews."
      ],
      "metadata": {
        "id": "eMmPjTByveiU"
      }
    },
    {
      "cell_type": "markdown",
      "source": [
        "##### 2. What is/are the insight(s) found from the chart?"
      ],
      "metadata": {
        "id": "22aHeOlLveiV"
      }
    },
    {
      "cell_type": "markdown",
      "source": [
        "* **Pricing Strategy:** Based on the negative correlation between price and availability, properties with higher prices might consider offering discounts or promotions to increase occupancy.\n",
        "\n",
        "* **Demand Analysis:** The relationship between price and number of reviews suggests that properties with more positive reviews might be able to command higher prices.\n",
        "\n",
        "* **Booking Policies:** The weak negative correlation between minimum nights and availability indicates that properties with flexible booking policies (shorter minimum nights) might attract more bookings.\n",
        "\n",
        "* **Customer Segmentation:** The pairplot helps identify different segments of customers based on their preferences for price, availability, and minimum nights.\n",
        "\n",
        "The distribution of minimum_nights reveals common booking patterns or preferences among guests & the distribution of availability_365 indicates seasonal trends or the overall availability of properties in the dataset."
      ],
      "metadata": {
        "id": "uPQ8RGwHveiV"
      }
    },
    {
      "cell_type": "markdown",
      "source": [
        "## **5. Solution to Business Objective**"
      ],
      "metadata": {
        "id": "JcMwzZxoAimU"
      }
    },
    {
      "cell_type": "markdown",
      "source": [
        "#### What do you suggest the client to achieve Business Objective ?\n",
        "Explain Briefly."
      ],
      "metadata": {
        "id": "8G2x9gOozGDZ"
      }
    },
    {
      "cell_type": "markdown",
      "source": [
        "**To enhance Airbnb's business performance in New York City, consider the following strategic initiatives based on the data analysis:**\n",
        "\n",
        "1. **Optimize Pricing Strategies:**\n",
        "\n",
        "* **Insight:** Listings in Manhattan command higher prices, while those in Staten Island and the Bronx are generally lower-priced.\n",
        "\n",
        "* **Recommendation:** Adjust pricing algorithms to reflect these geographic trends, ensuring competitive rates that maximize revenue.\n",
        "\n",
        "2. **Expand Room Type Offerings:**\n",
        "\n",
        "* **Insight:** \"Entire home/apt\" is the most common room type, followed by \"Private room\" and \"Shared room.\"\n",
        "\n",
        "* **Recommendation:** Increase the availability of \"Private rooms\" and \"Shared rooms\" in high-demand areas to attract budget-conscious travelers and enhance occupancy rates.\n",
        "\n",
        "3. **Promote Long-Term Stays:**\n",
        "\n",
        "* **Insight:** Listings with higher minimum night requirements tend to have higher prices, especially in neighborhoods like Manhattan.\n",
        "\n",
        "* **Recommendation:** Encourage hosts to promote long-term stays, especially in premium areas where minimum night requirements are higher. Airbnb can create special promotions or discounts for long-term bookings to attract both corporate and leisure travelers who seek extended stays.\n",
        "\n",
        "4. **Focus on Popular Neighborhoods and Room Types:**\n",
        "\n",
        "* **Insight:** Neighborhoods like Williamsburg and Harlem in Brooklyn and Manhattan attract more reviews, indicating their popularity among travelers. Entire homes/apartments are in high demand.\n",
        "\n",
        "* **Recommendation:** Promote listings in these popular neighborhoods and focus on marketing entire home/apt listings as they are more frequently booked. Airbnb can target specific audience segments such as families or large groups.\n",
        "\n",
        "5. **Leverage Review Insights for Quality Improvements:**\n",
        "\n",
        "* **Insight:** Listings with more reviews per month are likely well-received by guests.\n",
        "\n",
        "* **Recommendation:** Airbnb can develop a feedback loop where high-performing listings are promoted more heavily. Additionally, helping lower-reviewed listings by offering customer feedback analysis and coaching to hosts could improve the quality of all listings on the platform.\n",
        "\n",
        "**By acting on these insights, Airbnb can improve overall booking rates, enhance host engagement, and provide a better experience for guests, leading to positive business growth.**\n"
      ],
      "metadata": {
        "id": "pASKb0qOza21"
      }
    },
    {
      "cell_type": "markdown",
      "source": [
        "# **Conclusion**"
      ],
      "metadata": {
        "id": "gCX9965dhzqZ"
      }
    },
    {
      "cell_type": "markdown",
      "source": [
        "The analysis of the Airbnb NYC dataset reveals key insights into pricing, room types, availability, and customer preferences across different neighborhoods. By leveraging these insights, Airbnb can strategically adjust pricing models, expand its offering of room types, and focus on customer satisfaction in high-demand areas. Targeted marketing campaigns and standardized policies, such as minimum stay requirements, will also help improve occupancy rates and revenue.\n",
        "\n",
        "Ultimately, these actionable recommendations aim to align Airbnb’s services with market demand, ensuring enhanced customer experience, optimized revenues, and sustainable growth. By addressing these areas, Airbnb can strengthen its position in the competitive New York City market and achieve its business objectives effectively."
      ],
      "metadata": {
        "id": "Fjb1IsQkh3yE"
      }
    },
    {
      "cell_type": "markdown",
      "source": [
        "### ***Hurrah! You have successfully completed your EDA Capstone Project !!!***"
      ],
      "metadata": {
        "id": "gIfDvo9L0UH2"
      }
    }
  ]
}